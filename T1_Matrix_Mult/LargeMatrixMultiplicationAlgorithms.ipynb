{
 "cells": [
  {
   "cell_type": "markdown",
   "metadata": {},
   "source": [
    "# Large Matrix multiplication algoritms"
   ]
  },
  {
   "cell_type": "markdown",
   "metadata": {},
   "source": [
    "## Initialization\n",
    "\n",
    "### TimeIt\n",
    "The **timeit** module provides a simple interface for determining the execution time of small bits of Python code. It uses a platform-specific time function to provide the most accurate time calculation possible. It reduces the impact of startup or shutdown costs on the time calculation by executing the code repeatedly.\n",
    "\n",
    "### NumPy\n",
    "NumPy is the fundamental package for scientific computing with Python. \n",
    "\n",
    "### PyTorch\n",
    "It's another package for scientific computing with Python. \n",
    "https://pytorch.org/\n",
    "\n",
    "#### If you have such problem : ModuleNotFoundError: No module named 'torch'\n",
    "Please install **PyTorch**.\n",
    "##### If you are using Anaconda you can install it using code below\n",
    "```\n",
    "conda install pytorch torchvision -c pytorch\n",
    "```"
   ]
  },
  {
   "cell_type": "code",
   "execution_count": 1,
   "metadata": {},
   "outputs": [],
   "source": [
    "import timeit\n",
    "import numpy as np\n",
    "import torch\n",
    "\n",
    "Length = 100\n",
    "A = np.random.rand(Length,Length)\n",
    "B = np.random.rand(Length,Length)"
   ]
  },
  {
   "cell_type": "markdown",
   "metadata": {},
   "source": [
    "## Simple multiplication using loops"
   ]
  },
  {
   "cell_type": "code",
   "execution_count": 2,
   "metadata": {
    "scrolled": true
   },
   "outputs": [
    {
     "name": "stdout",
     "output_type": "stream",
     "text": [
      "Speed of Simple multiplication using loops:\n",
      "1.4251657999999998\n"
     ]
    }
   ],
   "source": [
    "start = timeit.default_timer()\n",
    "\n",
    "C = np.zeros((Length,Length))\n",
    "for i in range(Length):\n",
    "  for j in range(Length):\n",
    "    for k in range(Length):\n",
    "      C[i,k] += A[i,j]*B[j,k]\n",
    "\n",
    "time_spent = timeit.default_timer() - start\n",
    "print(\"Speed of Simple multiplication using loops:\")\n",
    "print(time_spent)"
   ]
  },
  {
   "cell_type": "markdown",
   "metadata": {},
   "source": [
    "## Numpy Multiplication"
   ]
  },
  {
   "cell_type": "code",
   "execution_count": 3,
   "metadata": {},
   "outputs": [
    {
     "name": "stdout",
     "output_type": "stream",
     "text": [
      "Speed of Numpy Multiplication:\n",
      "0.015491100000000202\n"
     ]
    }
   ],
   "source": [
    "start = timeit.default_timer()\n",
    "\n",
    "C2 = A.dot(B)\n",
    "\n",
    "time_spent = timeit.default_timer() - start\n",
    "print(\"Speed of Numpy Multiplication:\")\n",
    "print(time_spent)"
   ]
  },
  {
   "cell_type": "markdown",
   "metadata": {},
   "source": [
    "## PyTorch Multiplication"
   ]
  },
  {
   "cell_type": "code",
   "execution_count": 4,
   "metadata": {},
   "outputs": [
    {
     "name": "stdout",
     "output_type": "stream",
     "text": [
      "Speed of PyTorch Multiplication:\n",
      "0.006246400000000207\n"
     ]
    }
   ],
   "source": [
    "start = timeit.default_timer()\n",
    "\n",
    "#Convert our 2D arrays fron numpy to PyTorch arrays\n",
    "ATorchMatrix = torch.from_numpy(A) \n",
    "BTorchMatrix = torch.from_numpy(B) \n",
    "\n",
    "CTorchMatrix = torch.mm(ATorchMatrix, BTorchMatrix)\n",
    "\n",
    "time_spent = timeit.default_timer() - start\n",
    "print(\"Speed of PyTorch Multiplication:\")\n",
    "print(time_spent)"
   ]
  }
 ],
 "metadata": {
  "kernelspec": {
   "display_name": "Python 3",
   "language": "python",
   "name": "python3"
  },
  "language_info": {
   "codemirror_mode": {
    "name": "ipython",
    "version": 3
   },
   "file_extension": ".py",
   "mimetype": "text/x-python",
   "name": "python",
   "nbconvert_exporter": "python",
   "pygments_lexer": "ipython3",
   "version": "3.7.4"
  }
 },
 "nbformat": 4,
 "nbformat_minor": 4
}
